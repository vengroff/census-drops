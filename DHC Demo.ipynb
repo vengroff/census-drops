{
 "cells": [
  {
   "cell_type": "markdown",
   "id": "2867df45-bd31-41b4-a0d8-f6040018af4f",
   "metadata": {},
   "source": [
    "# 2020 U.S. Census Demographic and Housing Characteristics File (DHC)\n",
    "\n",
    "On May 25, 2023, the U.S. Census Burea released the [2020 Demographic and Housing Characteristics File (DHC)](https://www.census.gov/data/tables/2023/dec/2020-census-dhc.html). We are pleased to announce that [censusdis](https://github.com/vengroff/censusdis) supported this data set from the moment it was released.\n",
    "\n",
    "One of the key [design goals](https://github.com/vengroff/censusdis/blob/main/design-goals.md) of the censusdis project was that it should support as many data sets as possible, including new ones as they are released. It does this by querying metadata on datasets from U.S. Census servers rather than relying on any hard-coded data set descriptions or metadata than has to be manually maintained as part of the project.\n",
    "\n",
    "We are going to demonstrate using the DHC data set to understand how the age distribution of \n",
    "people who own their homes are different from those who rent in any of several states. \n",
    "Are renters mostly young adults? What about elderly? We're about to use the DHC data to find out."
   ]
  },
  {
   "cell_type": "markdown",
   "id": "965e93b6-56ba-45c1-afba-98e2cd15f1c9",
   "metadata": {},
   "source": [
    "## Imports and Configuration"
   ]
  },
  {
   "cell_type": "code",
   "execution_count": 1,
   "id": "15201292-38cd-4b5e-98a1-f2bb69fa4c2a",
   "metadata": {
    "tags": []
   },
   "outputs": [],
   "source": [
    "import censusdis.data as ced\n",
    "from censusdis.states import NM, NJ, NY, NAMES_FROM_IDS\n",
    "import matplotlib.ticker as mtick\n",
    "\n",
    "from typing import Tuple"
   ]
  },
  {
   "cell_type": "code",
   "execution_count": 2,
   "id": "a70cc013-ea4a-48d1-9477-51c667cf9854",
   "metadata": {},
   "outputs": [],
   "source": [
    "import pandas as pd\n",
    "\n",
    "# Some of the names and descriptions of variables get really long.\n",
    "# This option ensures they are readable in the notebook.\n",
    "pd.set_option('display.max_colwidth', 200)"
   ]
  },
  {
   "cell_type": "code",
   "execution_count": 3,
   "id": "ea13b79d-113a-4ba2-841b-85ec0cb6ae95",
   "metadata": {},
   "outputs": [],
   "source": [
    "# See https://www2.census.gov/data/api-documentation/2020-demographic-profile-and-dhc/using-the-census-data-api-to-make-a-group-call-from-the-2020-demographic-and-housing-characteristics-file.pdf\n",
    "DATASET = 'dec/dhc' \n",
    "VINTAGE = 2020"
   ]
  },
  {
   "cell_type": "markdown",
   "id": "960b1d18-f2fb-4bd3-8c0d-b39b899e92e6",
   "metadata": {},
   "source": [
    "## Query the groups and geographies in the DHC dataset\n",
    "\n",
    "This is normally the first step when we are exploring a new dataset. We want to know what groups it contains and what they represent."
   ]
  },
  {
   "cell_type": "code",
   "execution_count": 4,
   "id": "2cb17c15-f5e6-4291-b3ff-3a8149b3b5a1",
   "metadata": {},
   "outputs": [],
   "source": [
    "df_dhc_groups = ced.variables.all_groups(DATASET, VINTAGE)"
   ]
  },
  {
   "cell_type": "code",
   "execution_count": 5,
   "id": "5fd417cd-baa5-469d-ade1-502ff6659623",
   "metadata": {},
   "outputs": [
    {
     "data": {
      "text/html": [
       "<div>\n",
       "<style scoped>\n",
       "    .dataframe tbody tr th:only-of-type {\n",
       "        vertical-align: middle;\n",
       "    }\n",
       "\n",
       "    .dataframe tbody tr th {\n",
       "        vertical-align: top;\n",
       "    }\n",
       "\n",
       "    .dataframe thead th {\n",
       "        text-align: right;\n",
       "    }\n",
       "</style>\n",
       "<table border=\"1\" class=\"dataframe\">\n",
       "  <thead>\n",
       "    <tr style=\"text-align: right;\">\n",
       "      <th></th>\n",
       "      <th>DATASET</th>\n",
       "      <th>YEAR</th>\n",
       "      <th>GROUP</th>\n",
       "      <th>DESCRIPTION</th>\n",
       "    </tr>\n",
       "  </thead>\n",
       "  <tbody>\n",
       "    <tr>\n",
       "      <th>0</th>\n",
       "      <td>dec/dhc</td>\n",
       "      <td>2020</td>\n",
       "      <td>H1</td>\n",
       "      <td>HOUSING UNITS</td>\n",
       "    </tr>\n",
       "    <tr>\n",
       "      <th>1</th>\n",
       "      <td>dec/dhc</td>\n",
       "      <td>2020</td>\n",
       "      <td>H10</td>\n",
       "      <td>TENURE BY RACE OF HOUSEHOLDER</td>\n",
       "    </tr>\n",
       "    <tr>\n",
       "      <th>2</th>\n",
       "      <td>dec/dhc</td>\n",
       "      <td>2020</td>\n",
       "      <td>H11</td>\n",
       "      <td>TENURE BY HISPANIC OR LATINO ORIGIN OF HOUSEHOLDER</td>\n",
       "    </tr>\n",
       "    <tr>\n",
       "      <th>3</th>\n",
       "      <td>dec/dhc</td>\n",
       "      <td>2020</td>\n",
       "      <td>H12</td>\n",
       "      <td>TENURE BY HOUSEHOLD SIZE</td>\n",
       "    </tr>\n",
       "    <tr>\n",
       "      <th>4</th>\n",
       "      <td>dec/dhc</td>\n",
       "      <td>2020</td>\n",
       "      <td>H12A</td>\n",
       "      <td>TENURE BY HOUSEHOLD SIZE (WHITE ALONE HOUSEHOLDER)</td>\n",
       "    </tr>\n",
       "    <tr>\n",
       "      <th>...</th>\n",
       "      <td>...</td>\n",
       "      <td>...</td>\n",
       "      <td>...</td>\n",
       "      <td>...</td>\n",
       "    </tr>\n",
       "    <tr>\n",
       "      <th>244</th>\n",
       "      <td>dec/dhc</td>\n",
       "      <td>2020</td>\n",
       "      <td>PCT9E</td>\n",
       "      <td>HOUSEHOLD TYPE BY RELATIONSHIP FOR THE POPULATION 65 YEARS AND OVER (NATIVE HAWAIIAN AND OTHER PACIFIC ISLANDER ALONE)</td>\n",
       "    </tr>\n",
       "    <tr>\n",
       "      <th>245</th>\n",
       "      <td>dec/dhc</td>\n",
       "      <td>2020</td>\n",
       "      <td>PCT9F</td>\n",
       "      <td>HOUSEHOLD TYPE BY RELATIONSHIP FOR THE POPULATION 65 YEARS AND OVER (SOME OTHER RACE ALONE)</td>\n",
       "    </tr>\n",
       "    <tr>\n",
       "      <th>246</th>\n",
       "      <td>dec/dhc</td>\n",
       "      <td>2020</td>\n",
       "      <td>PCT9G</td>\n",
       "      <td>HOUSEHOLD TYPE BY RELATIONSHIP FOR THE POPULATION 65 YEARS AND OVER (TWO OR MORE RACES)</td>\n",
       "    </tr>\n",
       "    <tr>\n",
       "      <th>247</th>\n",
       "      <td>dec/dhc</td>\n",
       "      <td>2020</td>\n",
       "      <td>PCT9H</td>\n",
       "      <td>HOUSEHOLD TYPE BY RELATIONSHIP FOR THE POPULATION 65 YEARS AND OVER (HISPANIC OR LATINO)</td>\n",
       "    </tr>\n",
       "    <tr>\n",
       "      <th>248</th>\n",
       "      <td>dec/dhc</td>\n",
       "      <td>2020</td>\n",
       "      <td>PCT9I</td>\n",
       "      <td>HOUSEHOLD TYPE BY RELATIONSHIP FOR THE POPULATION 65 YEARS AND OVER (WHITE ALONE, NOT HISPANIC OR LATINO)</td>\n",
       "    </tr>\n",
       "  </tbody>\n",
       "</table>\n",
       "<p>249 rows × 4 columns</p>\n",
       "</div>"
      ],
      "text/plain": [
       "     DATASET  YEAR  GROUP  \\\n",
       "0    dec/dhc  2020     H1   \n",
       "1    dec/dhc  2020    H10   \n",
       "2    dec/dhc  2020    H11   \n",
       "3    dec/dhc  2020    H12   \n",
       "4    dec/dhc  2020   H12A   \n",
       "..       ...   ...    ...   \n",
       "244  dec/dhc  2020  PCT9E   \n",
       "245  dec/dhc  2020  PCT9F   \n",
       "246  dec/dhc  2020  PCT9G   \n",
       "247  dec/dhc  2020  PCT9H   \n",
       "248  dec/dhc  2020  PCT9I   \n",
       "\n",
       "                                                                                                                DESCRIPTION  \n",
       "0                                                                                                             HOUSING UNITS  \n",
       "1                                                                                             TENURE BY RACE OF HOUSEHOLDER  \n",
       "2                                                                        TENURE BY HISPANIC OR LATINO ORIGIN OF HOUSEHOLDER  \n",
       "3                                                                                                  TENURE BY HOUSEHOLD SIZE  \n",
       "4                                                                        TENURE BY HOUSEHOLD SIZE (WHITE ALONE HOUSEHOLDER)  \n",
       "..                                                                                                                      ...  \n",
       "244  HOUSEHOLD TYPE BY RELATIONSHIP FOR THE POPULATION 65 YEARS AND OVER (NATIVE HAWAIIAN AND OTHER PACIFIC ISLANDER ALONE)  \n",
       "245                             HOUSEHOLD TYPE BY RELATIONSHIP FOR THE POPULATION 65 YEARS AND OVER (SOME OTHER RACE ALONE)  \n",
       "246                                 HOUSEHOLD TYPE BY RELATIONSHIP FOR THE POPULATION 65 YEARS AND OVER (TWO OR MORE RACES)  \n",
       "247                                HOUSEHOLD TYPE BY RELATIONSHIP FOR THE POPULATION 65 YEARS AND OVER (HISPANIC OR LATINO)  \n",
       "248               HOUSEHOLD TYPE BY RELATIONSHIP FOR THE POPULATION 65 YEARS AND OVER (WHITE ALONE, NOT HISPANIC OR LATINO)  \n",
       "\n",
       "[249 rows x 4 columns]"
      ]
     },
     "execution_count": 5,
     "metadata": {},
     "output_type": "execute_result"
    }
   ],
   "source": [
    "df_dhc_groups"
   ]
  },
  {
   "cell_type": "markdown",
   "id": "d7695e6e-6fb6-4979-8ddb-3b5dba5623a1",
   "metadata": {},
   "source": [
    "### Filter the groups\n",
    "\n",
    "Normally the next step is to find the groups containing variables that\n",
    "interest us. Let's assume we are interested in understanding how the \n",
    "age distribution of renters differs from that of homeowners. The U.S.\n",
    "Census uses the term tenure to indicate whether people own or rent. So \n",
    "we will look for groups whose description contains both `'AGE'` and\n",
    "`'TENURE'`."
   ]
  },
  {
   "cell_type": "code",
   "execution_count": 6,
   "id": "e34ce099-32eb-4252-a878-ec2f3c37a3cd",
   "metadata": {},
   "outputs": [
    {
     "data": {
      "text/html": [
       "<div>\n",
       "<style scoped>\n",
       "    .dataframe tbody tr th:only-of-type {\n",
       "        vertical-align: middle;\n",
       "    }\n",
       "\n",
       "    .dataframe tbody tr th {\n",
       "        vertical-align: top;\n",
       "    }\n",
       "\n",
       "    .dataframe thead th {\n",
       "        text-align: right;\n",
       "    }\n",
       "</style>\n",
       "<table border=\"1\" class=\"dataframe\">\n",
       "  <thead>\n",
       "    <tr style=\"text-align: right;\">\n",
       "      <th></th>\n",
       "      <th>DATASET</th>\n",
       "      <th>YEAR</th>\n",
       "      <th>GROUP</th>\n",
       "      <th>DESCRIPTION</th>\n",
       "    </tr>\n",
       "  </thead>\n",
       "  <tbody>\n",
       "    <tr>\n",
       "      <th>13</th>\n",
       "      <td>dec/dhc</td>\n",
       "      <td>2020</td>\n",
       "      <td>H13</td>\n",
       "      <td>TENURE BY AGE OF HOUSEHOLDER</td>\n",
       "    </tr>\n",
       "    <tr>\n",
       "      <th>14</th>\n",
       "      <td>dec/dhc</td>\n",
       "      <td>2020</td>\n",
       "      <td>H13A</td>\n",
       "      <td>TENURE BY AGE OF HOUSEHOLDER (WHITE ALONE HOUSEHOLDER)</td>\n",
       "    </tr>\n",
       "    <tr>\n",
       "      <th>15</th>\n",
       "      <td>dec/dhc</td>\n",
       "      <td>2020</td>\n",
       "      <td>H13B</td>\n",
       "      <td>TENURE BY AGE OF HOUSEHOLDER (BLACK OR AFRICAN AMERICAN ALONE HOUSEHOLDER)</td>\n",
       "    </tr>\n",
       "    <tr>\n",
       "      <th>16</th>\n",
       "      <td>dec/dhc</td>\n",
       "      <td>2020</td>\n",
       "      <td>H13C</td>\n",
       "      <td>TENURE BY AGE OF HOUSEHOLDER (AMERICAN INDIAN AND ALASKA NATIVE ALONE HOUSEHOLDER)</td>\n",
       "    </tr>\n",
       "    <tr>\n",
       "      <th>17</th>\n",
       "      <td>dec/dhc</td>\n",
       "      <td>2020</td>\n",
       "      <td>H13D</td>\n",
       "      <td>TENURE BY AGE OF HOUSEHOLDER (ASIAN ALONE HOUSEHOLDER)</td>\n",
       "    </tr>\n",
       "    <tr>\n",
       "      <th>18</th>\n",
       "      <td>dec/dhc</td>\n",
       "      <td>2020</td>\n",
       "      <td>H13E</td>\n",
       "      <td>TENURE BY AGE OF HOUSEHOLDER (NATIVE HAWAIIAN AND OTHER PACIFIC ISLANDER ALONE HOUSEHOLDER)</td>\n",
       "    </tr>\n",
       "    <tr>\n",
       "      <th>19</th>\n",
       "      <td>dec/dhc</td>\n",
       "      <td>2020</td>\n",
       "      <td>H13F</td>\n",
       "      <td>TENURE BY AGE OF HOUSEHOLDER (SOME OTHER RACE ALONE HOUSEHOLDER)</td>\n",
       "    </tr>\n",
       "    <tr>\n",
       "      <th>20</th>\n",
       "      <td>dec/dhc</td>\n",
       "      <td>2020</td>\n",
       "      <td>H13G</td>\n",
       "      <td>TENURE BY AGE OF HOUSEHOLDER (TWO OR MORE RACES HOUSEHOLDER)</td>\n",
       "    </tr>\n",
       "    <tr>\n",
       "      <th>21</th>\n",
       "      <td>dec/dhc</td>\n",
       "      <td>2020</td>\n",
       "      <td>H13H</td>\n",
       "      <td>TENURE BY AGE OF HOUSEHOLDER (HISPANIC OR LATINO HOUSEHOLDER)</td>\n",
       "    </tr>\n",
       "    <tr>\n",
       "      <th>22</th>\n",
       "      <td>dec/dhc</td>\n",
       "      <td>2020</td>\n",
       "      <td>H13I</td>\n",
       "      <td>TENURE BY AGE OF HOUSEHOLDER (WHITE ALONE, NOT HISPANIC OR LATINO HOUSEHOLDER)</td>\n",
       "    </tr>\n",
       "    <tr>\n",
       "      <th>23</th>\n",
       "      <td>dec/dhc</td>\n",
       "      <td>2020</td>\n",
       "      <td>H14</td>\n",
       "      <td>TENURE BY HOUSEHOLD TYPE BY AGE OF HOUSEHOLDER</td>\n",
       "    </tr>\n",
       "    <tr>\n",
       "      <th>56</th>\n",
       "      <td>dec/dhc</td>\n",
       "      <td>2020</td>\n",
       "      <td>HCT2</td>\n",
       "      <td>TENURE BY PRESENCE AND AGE OF OWN CHILDREN</td>\n",
       "    </tr>\n",
       "    <tr>\n",
       "      <th>57</th>\n",
       "      <td>dec/dhc</td>\n",
       "      <td>2020</td>\n",
       "      <td>HCT3</td>\n",
       "      <td>TENURE BY PRESENCE AND AGE OF CHILDREN UNDER 18 YEARS BY HOUSEHOLD TYPE (EXCLUDING HOUSEHOLDERS, SPOUSES, AND UNMARRIED PARTNERS)</td>\n",
       "    </tr>\n",
       "  </tbody>\n",
       "</table>\n",
       "</div>"
      ],
      "text/plain": [
       "    DATASET  YEAR GROUP  \\\n",
       "13  dec/dhc  2020   H13   \n",
       "14  dec/dhc  2020  H13A   \n",
       "15  dec/dhc  2020  H13B   \n",
       "16  dec/dhc  2020  H13C   \n",
       "17  dec/dhc  2020  H13D   \n",
       "18  dec/dhc  2020  H13E   \n",
       "19  dec/dhc  2020  H13F   \n",
       "20  dec/dhc  2020  H13G   \n",
       "21  dec/dhc  2020  H13H   \n",
       "22  dec/dhc  2020  H13I   \n",
       "23  dec/dhc  2020   H14   \n",
       "56  dec/dhc  2020  HCT2   \n",
       "57  dec/dhc  2020  HCT3   \n",
       "\n",
       "                                                                                                                          DESCRIPTION  \n",
       "13                                                                                                       TENURE BY AGE OF HOUSEHOLDER  \n",
       "14                                                                             TENURE BY AGE OF HOUSEHOLDER (WHITE ALONE HOUSEHOLDER)  \n",
       "15                                                         TENURE BY AGE OF HOUSEHOLDER (BLACK OR AFRICAN AMERICAN ALONE HOUSEHOLDER)  \n",
       "16                                                 TENURE BY AGE OF HOUSEHOLDER (AMERICAN INDIAN AND ALASKA NATIVE ALONE HOUSEHOLDER)  \n",
       "17                                                                             TENURE BY AGE OF HOUSEHOLDER (ASIAN ALONE HOUSEHOLDER)  \n",
       "18                                        TENURE BY AGE OF HOUSEHOLDER (NATIVE HAWAIIAN AND OTHER PACIFIC ISLANDER ALONE HOUSEHOLDER)  \n",
       "19                                                                   TENURE BY AGE OF HOUSEHOLDER (SOME OTHER RACE ALONE HOUSEHOLDER)  \n",
       "20                                                                       TENURE BY AGE OF HOUSEHOLDER (TWO OR MORE RACES HOUSEHOLDER)  \n",
       "21                                                                      TENURE BY AGE OF HOUSEHOLDER (HISPANIC OR LATINO HOUSEHOLDER)  \n",
       "22                                                     TENURE BY AGE OF HOUSEHOLDER (WHITE ALONE, NOT HISPANIC OR LATINO HOUSEHOLDER)  \n",
       "23                                                                                     TENURE BY HOUSEHOLD TYPE BY AGE OF HOUSEHOLDER  \n",
       "56                                                                                         TENURE BY PRESENCE AND AGE OF OWN CHILDREN  \n",
       "57  TENURE BY PRESENCE AND AGE OF CHILDREN UNDER 18 YEARS BY HOUSEHOLD TYPE (EXCLUDING HOUSEHOLDERS, SPOUSES, AND UNMARRIED PARTNERS)  "
      ]
     },
     "execution_count": 6,
     "metadata": {},
     "output_type": "execute_result"
    }
   ],
   "source": [
    "df_dhc_groups[\n",
    "    df_dhc_groups['DESCRIPTION'].str.contains('AGE') &\n",
    "    df_dhc_groups['DESCRIPTION'].str.contains('TENURE')\n",
    "]"
   ]
  },
  {
   "cell_type": "code",
   "execution_count": 7,
   "id": "43fda4cf-3deb-4fcf-a811-a9cd38fc8b5d",
   "metadata": {},
   "outputs": [],
   "source": [
    "GROUP = 'H13'"
   ]
  },
  {
   "cell_type": "code",
   "execution_count": 8,
   "id": "d79b0e29-283b-44b3-8180-21e8c8698d2a",
   "metadata": {},
   "outputs": [
    {
     "data": {
      "text/plain": [
       "+  \n",
       "    + Total: (H13_001N)\n",
       "        + Owner occupied: (H13_002N)\n",
       "            + Householder 15 to 24 years (H13_003N)\n",
       "            + Householder 25 to 34 years (H13_004N)\n",
       "            + Householder 35 to 44 years (H13_005N)\n",
       "            + Householder 45 to 54 years (H13_006N)\n",
       "            + Householder 55 to 59 years (H13_007N)\n",
       "            + Householder 60 to 64 years (H13_008N)\n",
       "            + Householder 65 to 74 years (H13_009N)\n",
       "            + Householder 75 to 84 years (H13_010N)\n",
       "            + Householder 85 years and over (H13_011N)\n",
       "        + Renter occupied: (H13_012N)\n",
       "            + Householder 15 to 24 years (H13_013N)\n",
       "            + Householder 25 to 34 years (H13_014N)\n",
       "            + Householder 35 to 44 years (H13_015N)\n",
       "            + Householder 45 to 54 years (H13_016N)\n",
       "            + Householder 55 to 59 years (H13_017N)\n",
       "            + Householder 60 to 64 years (H13_018N)\n",
       "            + Householder 65 to 74 years (H13_019N)\n",
       "            + Householder 75 to 84 years (H13_020N)\n",
       "            + Householder 85 years and over (H13_021N)"
      ]
     },
     "execution_count": 8,
     "metadata": {},
     "output_type": "execute_result"
    }
   ],
   "source": [
    "ced.variables.group_tree(DATASET, VINTAGE, GROUP)"
   ]
  },
  {
   "cell_type": "code",
   "execution_count": 9,
   "id": "3828bb1c-8a5f-4b8b-943b-5a889bb81226",
   "metadata": {},
   "outputs": [],
   "source": [
    "VARIABLE_TOTAL = 'H13_001N'\n",
    "VARIABLE_OWNER_OCCUPIED = 'H13_002N'\n",
    "VARIABLE_RENTER_OCCUPIED = 'H13_012N'\n",
    "\n",
    "LEAVES = ced.variables.group_leaves(DATASET, VINTAGE, GROUP)\n",
    "LEAVES_OWNER = [leaf for leaf in LEAVES if leaf < VARIABLE_RENTER_OCCUPIED]\n",
    "LEAVES_RENTER = [leaf for leaf in LEAVES if leaf > VARIABLE_RENTER_OCCUPIED]"
   ]
  },
  {
   "cell_type": "code",
   "execution_count": 10,
   "id": "f3e76ca6-99e0-4fea-86c2-fb6552fbd75b",
   "metadata": {},
   "outputs": [
    {
     "data": {
      "text/plain": [
       "['H13_003N',\n",
       " 'H13_004N',\n",
       " 'H13_005N',\n",
       " 'H13_006N',\n",
       " 'H13_007N',\n",
       " 'H13_008N',\n",
       " 'H13_009N',\n",
       " 'H13_010N',\n",
       " 'H13_011N']"
      ]
     },
     "execution_count": 10,
     "metadata": {},
     "output_type": "execute_result"
    }
   ],
   "source": [
    "LEAVES_OWNER"
   ]
  },
  {
   "cell_type": "code",
   "execution_count": 11,
   "id": "bac8df1f-740e-4804-bac8-65e692d6644c",
   "metadata": {},
   "outputs": [
    {
     "data": {
      "text/plain": [
       "['H13_013N',\n",
       " 'H13_014N',\n",
       " 'H13_015N',\n",
       " 'H13_016N',\n",
       " 'H13_017N',\n",
       " 'H13_018N',\n",
       " 'H13_019N',\n",
       " 'H13_020N',\n",
       " 'H13_021N']"
      ]
     },
     "execution_count": 11,
     "metadata": {},
     "output_type": "execute_result"
    }
   ],
   "source": [
    "LEAVES_RENTER"
   ]
  },
  {
   "cell_type": "markdown",
   "id": "68428637-31b9-4d09-9322-89c306317d4a",
   "metadata": {},
   "source": [
    "### Query the geographies available\n",
    "\n",
    "The next step, before we query any actual data, is to look at metadata\n",
    "about what geographies are available for the data set we are using.\n",
    "We can then verify that it is possible to query this dataset by state.\n",
    "\n",
    "We verify this by making sure `['state']` is in the list of supported\n",
    "geographies. And sure enough it is. It is in fact the fourth one in the\n",
    "list."
   ]
  },
  {
   "cell_type": "code",
   "execution_count": 12,
   "id": "d98d769c-02a3-4ee2-8ffd-6689f4aec95a",
   "metadata": {},
   "outputs": [
    {
     "data": {
      "text/plain": [
       "[['us'], ['region'], ['division'], ['state'], ['state', 'county']]"
      ]
     },
     "execution_count": 12,
     "metadata": {},
     "output_type": "execute_result"
    }
   ],
   "source": [
    "# We'll only look at the first 10 here, but in general\n",
    "# we will look at more. We are just lucky that `['state']`\n",
    "# comes in the first 5 in the list.\n",
    "ced.geographies(DATASET, VINTAGE)[:5]"
   ]
  },
  {
   "cell_type": "markdown",
   "id": "3f569e7a-22fb-4fc1-9b07-c01bbe82be5e",
   "metadata": {},
   "source": [
    "## Download the data for a few states\n",
    "\n",
    "Now that we have gotten what we need from the metadata, we can\n",
    "download the actual data."
   ]
  },
  {
   "cell_type": "code",
   "execution_count": 13,
   "id": "80333c66-78ae-4829-90c3-b3b8a3be7fb6",
   "metadata": {},
   "outputs": [],
   "source": [
    "states=[NJ, NY, NM]"
   ]
  },
  {
   "cell_type": "code",
   "execution_count": 14,
   "id": "9edca065-2b7e-4579-8467-9159333f8e48",
   "metadata": {},
   "outputs": [],
   "source": [
    "df_data = ced.download(\n",
    "    DATASET,\n",
    "    VINTAGE,\n",
    "    \n",
    "    download_variables=['NAME'],\n",
    "    leaves_of_group=GROUP,\n",
    "    \n",
    "    state=states\n",
    ")"
   ]
  },
  {
   "cell_type": "code",
   "execution_count": 15,
   "id": "fff84335-c4a7-4d9a-b6d0-211319919b32",
   "metadata": {},
   "outputs": [
    {
     "data": {
      "text/html": [
       "<div>\n",
       "<style scoped>\n",
       "    .dataframe tbody tr th:only-of-type {\n",
       "        vertical-align: middle;\n",
       "    }\n",
       "\n",
       "    .dataframe tbody tr th {\n",
       "        vertical-align: top;\n",
       "    }\n",
       "\n",
       "    .dataframe thead th {\n",
       "        text-align: right;\n",
       "    }\n",
       "</style>\n",
       "<table border=\"1\" class=\"dataframe\">\n",
       "  <thead>\n",
       "    <tr style=\"text-align: right;\">\n",
       "      <th></th>\n",
       "      <th>STATE</th>\n",
       "      <th>NAME</th>\n",
       "      <th>H13_003N</th>\n",
       "      <th>H13_004N</th>\n",
       "      <th>H13_005N</th>\n",
       "      <th>H13_006N</th>\n",
       "      <th>H13_007N</th>\n",
       "      <th>H13_008N</th>\n",
       "      <th>H13_009N</th>\n",
       "      <th>H13_010N</th>\n",
       "      <th>H13_011N</th>\n",
       "      <th>H13_013N</th>\n",
       "      <th>H13_014N</th>\n",
       "      <th>H13_015N</th>\n",
       "      <th>H13_016N</th>\n",
       "      <th>H13_017N</th>\n",
       "      <th>H13_018N</th>\n",
       "      <th>H13_019N</th>\n",
       "      <th>H13_020N</th>\n",
       "      <th>H13_021N</th>\n",
       "    </tr>\n",
       "  </thead>\n",
       "  <tbody>\n",
       "    <tr>\n",
       "      <th>0</th>\n",
       "      <td>34</td>\n",
       "      <td>New Jersey</td>\n",
       "      <td>10904</td>\n",
       "      <td>151125</td>\n",
       "      <td>317421</td>\n",
       "      <td>429667</td>\n",
       "      <td>258203</td>\n",
       "      <td>249715</td>\n",
       "      <td>386556</td>\n",
       "      <td>208768</td>\n",
       "      <td>86141</td>\n",
       "      <td>55875</td>\n",
       "      <td>297931</td>\n",
       "      <td>280165</td>\n",
       "      <td>234181</td>\n",
       "      <td>113909</td>\n",
       "      <td>99958</td>\n",
       "      <td>137744</td>\n",
       "      <td>71695</td>\n",
       "      <td>36144</td>\n",
       "    </tr>\n",
       "    <tr>\n",
       "      <th>1</th>\n",
       "      <td>35</td>\n",
       "      <td>New Mexico</td>\n",
       "      <td>7665</td>\n",
       "      <td>50630</td>\n",
       "      <td>79571</td>\n",
       "      <td>91286</td>\n",
       "      <td>61414</td>\n",
       "      <td>66946</td>\n",
       "      <td>121541</td>\n",
       "      <td>61058</td>\n",
       "      <td>19928</td>\n",
       "      <td>25413</td>\n",
       "      <td>63675</td>\n",
       "      <td>51167</td>\n",
       "      <td>40210</td>\n",
       "      <td>21047</td>\n",
       "      <td>19716</td>\n",
       "      <td>29645</td>\n",
       "      <td>12925</td>\n",
       "      <td>5677</td>\n",
       "    </tr>\n",
       "    <tr>\n",
       "      <th>2</th>\n",
       "      <td>36</td>\n",
       "      <td>New York</td>\n",
       "      <td>32589</td>\n",
       "      <td>299338</td>\n",
       "      <td>567829</td>\n",
       "      <td>760773</td>\n",
       "      <td>476173</td>\n",
       "      <td>474819</td>\n",
       "      <td>769399</td>\n",
       "      <td>405813</td>\n",
       "      <td>168245</td>\n",
       "      <td>204959</td>\n",
       "      <td>862750</td>\n",
       "      <td>724288</td>\n",
       "      <td>612900</td>\n",
       "      <td>313050</td>\n",
       "      <td>287119</td>\n",
       "      <td>422541</td>\n",
       "      <td>225173</td>\n",
       "      <td>107414</td>\n",
       "    </tr>\n",
       "  </tbody>\n",
       "</table>\n",
       "</div>"
      ],
      "text/plain": [
       "  STATE        NAME  H13_003N  H13_004N  H13_005N  H13_006N  H13_007N  \\\n",
       "0    34  New Jersey     10904    151125    317421    429667    258203   \n",
       "1    35  New Mexico      7665     50630     79571     91286     61414   \n",
       "2    36    New York     32589    299338    567829    760773    476173   \n",
       "\n",
       "   H13_008N  H13_009N  H13_010N  H13_011N  H13_013N  H13_014N  H13_015N  \\\n",
       "0    249715    386556    208768     86141     55875    297931    280165   \n",
       "1     66946    121541     61058     19928     25413     63675     51167   \n",
       "2    474819    769399    405813    168245    204959    862750    724288   \n",
       "\n",
       "   H13_016N  H13_017N  H13_018N  H13_019N  H13_020N  H13_021N  \n",
       "0    234181    113909     99958    137744     71695     36144  \n",
       "1     40210     21047     19716     29645     12925      5677  \n",
       "2    612900    313050    287119    422541    225173    107414  "
      ]
     },
     "execution_count": 15,
     "metadata": {},
     "output_type": "execute_result"
    }
   ],
   "source": [
    "df_data"
   ]
  },
  {
   "cell_type": "markdown",
   "id": "e140a1e1-fd91-4254-a132-6d9a25742c9c",
   "metadata": {},
   "source": [
    "## Analyze the data\n",
    "\n",
    "At this point, we have accomplished the main thing we set out to do,\n",
    "which is to verify that the `censusdis` API is able to download metadata\n",
    "and data about the new DHC dataset. Again it is important to note that no\n",
    "changes were made to `censusdis` itself to do this. When the U.S. Census\n",
    "published this data, `censusdis` was already ready and able to work with\n",
    "it.\n",
    "\n",
    "But for the sake of making this notebook look a little more like a complete\n",
    "study, we are going to analyze the data we downloaded and make a few \n",
    "charts."
   ]
  },
  {
   "cell_type": "markdown",
   "id": "29b8a6b1-a669-4c90-a808-4323ba435566",
   "metadata": {},
   "source": [
    "First, we will compute the fraction of owners that are in each age group, then we will do the same for renters."
   ]
  },
  {
   "cell_type": "code",
   "execution_count": 16,
   "id": "844d6a31-ef2b-4bf4-b057-8f203c2adc8c",
   "metadata": {},
   "outputs": [],
   "source": [
    "df_variables = ced.variables.all_variables(DATASET, VINTAGE, GROUP)"
   ]
  },
  {
   "cell_type": "code",
   "execution_count": 17,
   "id": "b771b913-3b12-4fa8-b952-c549bed2f101",
   "metadata": {},
   "outputs": [],
   "source": [
    "def ages_of_var(var: str) -> str:\n",
    "    label = df_variables[df_variables['VARIABLE'] == var]['LABEL'].iloc[0]\n",
    "    ages = label.split('!!')[-1]\n",
    "    return ages\n",
    "\n",
    "def owner_age_col(var: str) -> Tuple[str, str]:\n",
    "    return 'Owners', f'{ages_of_var(var)}'\n",
    "\n",
    "def renter_age_col(var: str) -> Tuple[str, str]:\n",
    "    return 'Renters', f'{ages_of_var(var)}'"
   ]
  },
  {
   "cell_type": "code",
   "execution_count": 18,
   "id": "10def1ef-f38e-4e86-b7dd-4cd3eaa5baa0",
   "metadata": {},
   "outputs": [],
   "source": [
    "def plot_state(state: str, plot_owner: bool = False):\n",
    "\n",
    "    df_state = df_data[df_data['STATE'] == state]\n",
    "\n",
    "    df_renter = pd.DataFrame()\n",
    "    df_owner = pd.DataFrame()\n",
    "\n",
    "    for leaf_renter, leaf_owner in zip(LEAVES_RENTER, LEAVES_OWNER):\n",
    "        # Make sure we are working with the same age range.\n",
    "        assert ages_of_var(leaf_renter) == ages_of_var(leaf_owner)\n",
    "        df_renter[ages_of_var(leaf_renter)] = (\n",
    "            df_state[leaf_renter] / (df_state[leaf_renter] + df_state[leaf_owner])\n",
    "        )\n",
    "        df_owner[ages_of_var(leaf_owner)] = (\n",
    "            df_state[leaf_owner] / (df_state[leaf_renter] + df_state[leaf_owner])\n",
    "        )\n",
    "\n",
    "    if plot_owner:\n",
    "        ax = df_owner.T.plot.bar(\n",
    "            title=f\"Percentage of Householders that Own by Age Group in {NAMES_FROM_IDS[state]}\",\n",
    "            figsize=(10, 6),\n",
    "            legend=False,\n",
    "        )\n",
    "    else:\n",
    "        ax = df_renter.T.plot.bar(\n",
    "            title=f\"Percentage of Householders that Rent by Age Group in {NAMES_FROM_IDS[state]}\",\n",
    "            figsize=(10, 6),\n",
    "            legend=False,\n",
    "        )\n",
    "\n",
    "    ax.set_ylim(0, 1)\n",
    "    ax.yaxis.grid()\n",
    "    ax.yaxis.set_major_formatter(mtick.PercentFormatter(1.0)) "
   ]
  },
  {
   "cell_type": "code",
   "execution_count": 19,
   "id": "b3d557bc-cd17-404d-86e6-b1317364da03",
   "metadata": {},
   "outputs": [
    {
     "data": {
      "image/png": "[encoded data removed]",
      "text/plain": [
       "<Figure size 1000x600 with 1 Axes>"
      ]
     },
     "metadata": {},
     "output_type": "display_data"
    },
    {
     "data": {
      "image/png": "[encoded data removed]",
      "text/plain": [
       "<Figure size 1000x600 with 1 Axes>"
      ]
     },
     "metadata": {},
     "output_type": "display_data"
    },
    {
     "data": {
      "image/png": "[encoded data removed]",
      "text/plain": [
       "<Figure size 1000x600 with 1 Axes>"
      ]
     },
     "metadata": {},
     "output_type": "display_data"
    }
   ],
   "source": [
    "for state in states:\n",
    "    plot_state(state, plot_owner=True)"
   ]
  },
  {
   "cell_type": "code",
   "execution_count": null,
   "id": "f8c798ad-14c7-4cf0-8f4f-6d3235eaa988",
   "metadata": {},
   "outputs": [],
   "source": []
  }
 ],
 "metadata": {
  "kernelspec": {
   "display_name": "Python 3 (ipykernel)",
   "language": "python",
   "name": "python3"
  },
  "language_info": {
   "codemirror_mode": {
    "name": "ipython",
    "version": 3
   },
   "file_extension": ".py",
   "mimetype": "text/x-python",
   "name": "python",
   "nbconvert_exporter": "python",
   "pygments_lexer": "ipython3",
   "version": "3.9.10"
  }
 },
 "nbformat": 4,
 "nbformat_minor": 5
}
